{
 "cells": [
  {
   "cell_type": "code",
   "execution_count": 4,
   "metadata": {},
   "outputs": [],
   "source": [
    "import numpy as np\n",
    "def gradient_descent(x,y):\n",
    "    m_curr=b_curr=0\n",
    "    iterations=10\n",
    "    n=len(x)\n",
    "    learning_rate=0.000001\n",
    "    for i in range(0,iterations):\n",
    "        y_predicted=m_curr*x+b_curr\n",
    "        cost=(1/n)*sum((y-y_predicted)**2)\n",
    "        md=-(2/n)*sum(x*(y-y_predicted))\n",
    "        bd=-(2/n)*sum(y-y_predicted)\n",
    "        m_curr=m_curr-(learning_rate*md)\n",
    "        b_curr=b_curr-(learning_rate*bd)\n",
    "        print(\"m {}, b {}, cost {} iterations {}\".format(m_curr,b_curr,cost,i))\n",
    "x=np.array([92,56,88,70,80,49,65,35,66,67])\n",
    "y=np.array([98,68,81,80,83,52,66,30,68,73])"
   ]
  },
  {
   "cell_type": "code",
   "execution_count": 5,
   "metadata": {},
   "outputs": [
    {
     "name": "stdout",
     "output_type": "stream",
     "text": [
      "m 0.009891800000000001, b 0.0001398, cost 5199.1 iterations 0\n",
      "m 0.019689925760320002, b 0.00027827817592, cost 5101.696144537537 iterations 1\n",
      "m 0.02939526436525699, b 0.00041544704528206943, cost 5006.1283606811685 iterations 2\n",
      "m 0.039008694498521485, b 0.0005513190070687805, cost 4912.362038312762 iterations 3\n",
      "m 0.04853108652279014, b 0.000685906342845764, cost 4820.36321971808 iterations 4\n",
      "m 0.05796330255850496, b 0.0008192212178736335, cost 4730.098587288917 iterations 5\n",
      "m 0.06730619656192632, b 0.0009512756822093814, cost 4641.5354514570345 iterations 6\n",
      "m 0.07656061440244687, b 0.0010820816717973436, cost 4554.641738855556 iterations 7\n",
      "m 0.08572739393917314, b 0.0012116510095498332, cost 4469.385980703504 iterations 8\n",
      "m 0.09480736509678217, b 0.0013399954064175405, cost 4385.73730140932 iterations 9\n"
     ]
    }
   ],
   "source": [
    "gradient_descent(x,y)"
   ]
  },
  {
   "cell_type": "code",
   "execution_count": null,
   "metadata": {},
   "outputs": [],
   "source": []
  },
  {
   "cell_type": "code",
   "execution_count": null,
   "metadata": {},
   "outputs": [],
   "source": []
  },
  {
   "cell_type": "code",
   "execution_count": null,
   "metadata": {},
   "outputs": [],
   "source": []
  },
  {
   "cell_type": "code",
   "execution_count": null,
   "metadata": {},
   "outputs": [],
   "source": []
  },
  {
   "cell_type": "code",
   "execution_count": null,
   "metadata": {},
   "outputs": [],
   "source": []
  }
 ],
 "metadata": {
  "kernelspec": {
   "display_name": "Python 3",
   "language": "python",
   "name": "python3"
  },
  "language_info": {
   "codemirror_mode": {
    "name": "ipython",
    "version": 3
   },
   "file_extension": ".py",
   "mimetype": "text/x-python",
   "name": "python",
   "nbconvert_exporter": "python",
   "pygments_lexer": "ipython3",
   "version": "3.7.4"
  }
 },
 "nbformat": 4,
 "nbformat_minor": 2
}
